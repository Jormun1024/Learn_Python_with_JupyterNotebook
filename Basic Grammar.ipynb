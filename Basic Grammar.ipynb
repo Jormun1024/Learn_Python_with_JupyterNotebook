{
 "cells": [
  {
   "cell_type": "markdown",
   "id": "249867fe",
   "metadata": {},
   "source": [
    "**<p align=\"center\">Input & Output</p>**\n",
    "**<p align=\"center\">输入与输出</p>**"
   ]
  },
  {
   "cell_type": "code",
   "execution_count": 1,
   "id": "cfb025ad",
   "metadata": {},
   "outputs": [
    {
     "name": "stdout",
     "output_type": "stream",
     "text": [
      "Hello, world!\n",
      "Hello, world! 学编程的第一句一定得是print(\"Hello, world!\")! "
     ]
    }
   ],
   "source": [
    "# 这是注释，每个以“#”开头的都是注释，方便你读懂代码\n",
    "# 注释可以像这样另起一行，也可以像下面那样跟在代码后面\n",
    "str1 = input('Please input \"Hello, world!\": ')  # 请输入\"Hello, world!\"，将输入作为值赋给str1\n",
    "print(str1, end='\\n') # 打印str1的值，可以简写为print(str1)，转义字符'\\n'为回车\n",
    "print(str1, end=' 学编程的第一句一定得是print(\"Hello, world!\")! ')   # 也可以这样用"
   ]
  },
  {
   "cell_type": "markdown",
   "id": "3c557b9a",
   "metadata": {},
   "source": [
    "练习题：分别输入\"Hello\"和\"world\"并打印，打印时用\", \"连接\"Hello\"和\"world\""
   ]
  },
  {
   "cell_type": "markdown",
   "id": "fd361f23",
   "metadata": {},
   "source": [
    "**<p align=\"center\">Operation</p>**\n",
    "**<p align=\"center\">运算操作</p>**"
   ]
  },
  {
   "cell_type": "code",
   "execution_count": 2,
   "id": "c512a2d7",
   "metadata": {},
   "outputs": [
    {
     "name": "stdout",
     "output_type": "stream",
     "text": [
      "2 3\n",
      "5 -1 1\n",
      "6 1.5\n",
      "1 1 8\n"
     ]
    }
   ],
   "source": [
    "# Python中数字分为：整型（int()）、浮点型（float()）、复数（complex()）等等\n",
    "# 整型一定是整数，浮点型一定是小数，即使是1.000\n",
    "num1,num2 = 2,3   #将2和3分别赋给num1和num2，此时num1和num2就是整型\n",
    "print(num1, num2)\n",
    "print(num1+num2, num1-num2, abs(num1-num2))  # 加法，减法，abs()函数取绝对值\n",
    "print(num1*num2, num2/num1) # 乘法，除法（num2/num1是浮点型）\n",
    "print(num2//num1, num2%num1, num1**num2)  # 整除（num2//num1是整型），取余，num1的num2次方"
   ]
  },
  {
   "cell_type": "code",
   "execution_count": 3,
   "id": "aad9468b",
   "metadata": {},
   "outputs": [
    {
     "name": "stdout",
     "output_type": "stream",
     "text": [
      "2 2.0\n"
     ]
    }
   ],
   "source": [
    "# int()、float()可以对数字进行转换，例如：\n",
    "num1 = '1'\n",
    "print(int(num1)+1, float(num1)+1)"
   ]
  },
  {
   "cell_type": "code",
   "execution_count": 4,
   "id": "7d90ae91",
   "metadata": {},
   "outputs": [],
   "source": [
    "# 对于已经给定的的整数可以进行修改\n",
    "num1 = 0\n",
    "num1 += 1   # 相当于num1 = num1+1，‘+’同理可以替换成其他运算符"
   ]
  },
  {
   "cell_type": "markdown",
   "id": "fab36f64",
   "metadata": {},
   "source": [
    "练习题：分别输入一个整型数和浮点型数，打印比它们和小的最大的整数"
   ]
  },
  {
   "cell_type": "markdown",
   "id": "c5df805c",
   "metadata": {},
   "source": [
    "**<p align=\"center\">Condition</p>**\n",
    "**<p align=\"center\">条件和条件语句</p>**"
   ]
  },
  {
   "cell_type": "code",
   "execution_count": 5,
   "id": "38566a41",
   "metadata": {},
   "outputs": [
    {
     "name": "stdout",
     "output_type": "stream",
     "text": [
      "num1 is less than num2\n",
      "3\n",
      "num1 doesn't equal num2\n"
     ]
    }
   ],
   "source": [
    "num1,num2 = 2,3\n",
    "if num1==num2: \n",
    "    print('num1 equals num2')    # 如果num1等于num2\n",
    "elif num1>num2: \n",
    "    print('num1 is greater than num1')  # 或，如果num1大于num2\n",
    "else: \n",
    "    print('num1 is less than num2') # 其他情况（即num1小于num2）\n",
    "num3 = num1 if num1>num2 else num2   # 如果num1大于num2，将num1的值赋给num3，否则把num2的值赋给num3\n",
    "print(num3)\n",
    "# 同理有：\n",
    "print('num1 equals num2') if num1==num2 else print(\"num1 doesn't equal num2\")"
   ]
  },
  {
   "cell_type": "markdown",
   "id": "675cefb6",
   "metadata": {},
   "source": [
    "练习题：输入两个整数，找到一个整数使得这三个整数在经过排序后能成为一个等差数列，在一行输出这个等差数列"
   ]
  },
  {
   "cell_type": "markdown",
   "id": "0fa022bf",
   "metadata": {},
   "source": [
    "**<p align=\"center\">Sequence (list & tuple & string)</p>**\n",
    "**<p align=\"center\">序列 (列表与元组与字符串)</p>**"
   ]
  },
  {
   "cell_type": "markdown",
   "id": "30d6e510",
   "metadata": {},
   "source": [
    "<p align=\"center\">String</p>\n",
    "<p align=\"center\">字符串 str()</p>"
   ]
  },
  {
   "cell_type": "code",
   "execution_count": 6,
   "id": "d5b761ae",
   "metadata": {},
   "outputs": [
    {
     "name": "stdout",
     "output_type": "stream",
     "text": [
      "John says Bob hates learning. \n",
      "He said: \"I heared John said Bob hates learning. \"\n",
      "He said: \"I heared Tom said:'I heard that John said Bob hates learning. '\"\n"
     ]
    }
   ],
   "source": [
    "# 形如用单引号（''）或双引号（\"\"）括起来的都是字符串，比如：\n",
    "str1 = 'John says Bob hates learning. '\n",
    "# 如果想要在字符串里使用引号，最外面一定要用另一种引号，比如：\n",
    "str2 = 'He said: \"I heared John said Bob hates learning. \"'\n",
    "# 如果想混合使用两种引号就需要用‘+’来拼接字符串，比如：\n",
    "str3 = 'He said: \"I heared Tom said:'+\"'I heard that John said Bob hates learning. '\"+'\"'\n",
    "print(str1)\n",
    "print(str2)\n",
    "print(str3)"
   ]
  },
  {
   "cell_type": "markdown",
   "id": "5474fed4",
   "metadata": {},
   "source": [
    "练习题：打印下面这段话：Tom said: \"I like Mark Twain's works because they criticize unreasonable phenomena or the ugliness of human nature. I also deeply understand what Mark Twain said:' It is more difficult for people to believe that they have been cheated than to cheat them. '\""
   ]
  },
  {
   "cell_type": "code",
   "execution_count": 7,
   "id": "988612a2",
   "metadata": {},
   "outputs": [
    {
     "name": "stdout",
     "output_type": "stream",
     "text": [
      "Hello, world. Hot enough for you?\n",
      "first, second and third\n",
      "to be or not to be\n",
      "π is approximately 3.141592653589793.\n"
     ]
    }
   ],
   "source": [
    "# 字符串最重要的就是格式化操作和正则表达式\n",
    "str1 = \"Hello, %s. %s enough for you?\"\n",
    "values = ('world', 'Hot') \n",
    "print(str1%values)\n",
    "print(\"{}, {} and {}\".format(\"first\", \"second\", \"third\"))\n",
    "print(\"{3} {0} {2} {1} {3} {0}\".format(\"be\", \"not\", \"or\", \"to\"))\n",
    "print(\"{name} is approximately {value}.\".format(value=3.141592653589793, name=\"π\"))"
   ]
  },
  {
   "cell_type": "code",
   "execution_count": 8,
   "id": "36afc505",
   "metadata": {},
   "outputs": [
    {
     "name": "stdout",
     "output_type": "stream",
     "text": [
      "H e ?\n",
      "ell\n",
      "Hell\n",
      "llo, %s. %s enough for you?\n",
      "el,%.% nuhfryu\n",
      "?uoy rof hguone s% .s% ,olleH\n"
     ]
    }
   ],
   "source": [
    "# 索引和切片可以从字符串中选取字符，索引返回的是字符，切片返回的是字符串或是字符\n",
    "# 索引\n",
    "print(str1[0], str1[1], str1[-1])    # 选取第一个、第二个、倒数第一个字符\n",
    "# 切片\n",
    "print(str1[1:4])  # 选取第二个到第三个字符\n",
    "print(str1[:4])   # 如果从第一个字符开始可以省略第一个索引\n",
    "print(str1[2:])   # 如果到最后一个字符结束可以省略第二个索引\n",
    "# 在上述切片中，省略了参数：步长=1，这意味着从一个字符移到下一个字符，因此切片包含起点和终点之间的所有字符\n",
    "# 如果指定的步长大于1，将跳过一些字符，比如：\n",
    "print(str1[1:-1:2])\n",
    "# 还可以将步长设定为-1，实现字符串反转，比如：\n",
    "print(str1[::-1])"
   ]
  },
  {
   "cell_type": "markdown",
   "id": "ba8439f7",
   "metadata": {},
   "source": [
    "练习题：给定字符串'192.168.114.51'，删除所有的‘.’，并打印结果"
   ]
  },
  {
   "cell_type": "code",
   "execution_count": 9,
   "id": "93ea2294",
   "metadata": {},
   "outputs": [
    {
     "name": "stdout",
     "output_type": "stream",
     "text": [
      "5\n"
     ]
    }
   ],
   "source": [
    "# eval()函数用来执行一个字符串表达式，并返回表达式的值。\n",
    "print(eval('2+3'))"
   ]
  },
  {
   "cell_type": "markdown",
   "id": "871b548a",
   "metadata": {},
   "source": [
    "<p align=\"center\">List</p>\n",
    "<p align=\"center\">列表 list()：Python的主力</p>"
   ]
  },
  {
   "cell_type": "code",
   "execution_count": 10,
   "id": "1391322c",
   "metadata": {},
   "outputs": [
    {
     "name": "stdout",
     "output_type": "stream",
     "text": [
      "['Sheffield', 1935.1, 1936.7, 1937.8, 1967]\n",
      "[['Sheffield', 1935.1, 1936.7, 1937.8, 1967], ['Manchester', 1936.3, 1937.4, 1938.8, 1942], ['Belfast', 1936.12, 1938.3, 1939.8, 'As a museum docks at the River Thames in London']]\n"
     ]
    }
   ],
   "source": [
    "# 形如用方括号括起来的都是列表，列表中的内容被称为元素，比如：\n",
    "Sheffield = ['Sheffield', 1935.1, 1936.7, 1937.8, 1967]\n",
    "Manchester = ['Manchester', 1936.3, 1937.4, 1938.8, 1942]\n",
    "Belfast = ['Belfast', 1936.12, 1938.3, 1939.8, 'As a museum docks at the River Thames in London']\n",
    "# 列表可以作为列表的元素，比如：\n",
    "HMS = [Sheffield, Manchester, Belfast]\n",
    "print(Sheffield)\n",
    "print(HMS)"
   ]
  },
  {
   "cell_type": "code",
   "execution_count": 11,
   "id": "2d6c1cff",
   "metadata": {},
   "outputs": [
    {
     "name": "stdout",
     "output_type": "stream",
     "text": [
      "Sheffield 1935.1 1967\n",
      "[1935.1, 1936.7, 1937.8]\n",
      "['Sheffield', 1935.1, 1936.7, 1937.8]\n",
      "[1936.7, 1937.8, 1967]\n",
      "[1935.1, 1937.8]\n",
      "[1967, 1937.8, 1936.7, 1935.1, 'Sheffield']\n"
     ]
    }
   ],
   "source": [
    "# 索引和切片同样适用于列表，不同在于索引返回元素，切片返回列表\n",
    "# 索引\n",
    "print(Sheffield[0], Sheffield[1], Sheffield[-1])\n",
    "# 切片\n",
    "print(Sheffield[1:4])\n",
    "print(Sheffield[:4])\n",
    "print(Sheffield[2:])\n",
    "print(Sheffield[1:-1:2])\n",
    "print(Sheffield[::-1])"
   ]
  },
  {
   "cell_type": "code",
   "execution_count": 12,
   "id": "cafb93ff",
   "metadata": {},
   "outputs": [
    {
     "name": "stdout",
     "output_type": "stream",
     "text": [
      "[]\n",
      "['This is HMS', ['Manchester', 1936.3, 1937.4, 1938.8, 1942]]\n",
      "['This is HMS', ['Manchester', 1936.3, 1937.4, 1938.8, 1942], 'Belfast', 1936.12, 1938.3, 1939.8, 'As a museum docks at the River Thames in London']\n",
      "['Manchester', 1936.3, 1937.4, 1938.8, 1942, 'Belfast', 1936.12, 1938.3, 1939.8, 'As a museum docks at the River Thames in London']\n",
      "['Sheffield', 1935.1, 1936.7, 1937.8, 1967, 'Sheffield', 1935.1, 1936.7, 1937.8, 1967]\n",
      "['This is new HMS', ['Manchester', 1936.3, 1937.4, 1938.8, 1942], 'Belfast', 1936.12, 1938.3, 1939.8, 'As a museum docks at the River Thames in London']\n",
      "['This is new HMS', 'Belfast', 1936.12, 1938.3, 1939.8, 'As a museum docks at the River Thames in London']\n",
      "['This is new HMS', 'Belfast', 1936.12, 1938.3, 'H', 'M', 'S']\n",
      "['This is new HMS', 'H', 'M', 'S', 'Belfast', 1936.12, 1938.3, 'H', 'M', 'S']\n",
      "['This is new HMS', 'Belfast', 1936.12, 1938.3, 'H', 'M', 'S']\n"
     ]
    }
   ],
   "source": [
    "# 清空列表\n",
    "HMS.clear()\n",
    "print(HMS)\n",
    "# 向列表中添加元素\n",
    "HMS.append('This is HMS')\n",
    "HMS.append(Manchester)\n",
    "print(HMS)\n",
    "# 扩展列表\n",
    "HMS.extend(Belfast)\n",
    "print(HMS)\n",
    "# 列表也可以相加和相乘，比如:\n",
    "print(Manchester+Belfast)\n",
    "print(Sheffield*2)\n",
    "# 修改列表：给元素赋值\n",
    "HMS[0] = 'This is new HMS'\n",
    "print(HMS)\n",
    "# 删除元素\n",
    "del HMS[1]\n",
    "print(HMS)\n",
    "# 给切片赋值\n",
    "HMS[-2:] = list('HMS')\n",
    "print(HMS)\n",
    "HMS[1:1] = list('HMS')  # 实现插入\n",
    "print(HMS)\n",
    "HMS[1:4] = []  # 实现删除\n",
    "print(HMS)"
   ]
  },
  {
   "cell_type": "code",
   "execution_count": 13,
   "id": "7e4541eb",
   "metadata": {},
   "outputs": [
    {
     "name": "stdout",
     "output_type": "stream",
     "text": [
      "['This is new HMS', 'Belfast', 1936.12, 1938.3, 'H', 'M', 'S', ['Manchester Manchester', 1936.3, 1937.4, 1938.8, 1942]] ['This is new HMS', 'Belfast', 1936.12, 1938.3, 'H', 'M', 'S', ['Manchester', 1936.3, 1937.4, 1938.8, 1942]]\n"
     ]
    }
   ],
   "source": [
    "# 复制列表\n",
    "import copy # 引入模块\n",
    "HMS.append(Manchester.copy())\n",
    "HMS_new1=HMS.copy()  # 浅拷贝，只是将列表HMS关联到列表HMS_new1\n",
    "HMS_new2=copy.deepcopy(HMS)  # 深拷贝\n",
    "HMS[0]='This is HMS'\n",
    "HMS[7][0]='Manchester Manchester'\n",
    "print(HMS_new1, HMS_new2)"
   ]
  },
  {
   "cell_type": "code",
   "execution_count": 14,
   "id": "304ba44c",
   "metadata": {},
   "outputs": [
    {
     "name": "stdout",
     "output_type": "stream",
     "text": [
      "1\n",
      "0\n",
      "None ['This is HMS', 'This is HMS', 'Belfast', 1936.12, 1938.3, 'H', 'M', 'S', ['Manchester Manchester', 1936.3, 1937.4, 1938.8, 1942]]\n",
      "['Manchester Manchester', 1936.3, 1937.4, 1938.8, 1942] ['This is HMS', 'This is HMS', 'Belfast', 1936.12, 1938.3, 'H', 'M', 'S']\n",
      "None ['This is HMS', 'Belfast', 1936.12, 1938.3, 'H', 'M', 'S']\n"
     ]
    }
   ],
   "source": [
    "# 计算指定的元素在列表中出现次数\n",
    "print(HMS.count('This is HMS'))\n",
    "# 列表中查找指定值第一次出现的索引\n",
    "print(HMS.index('This is HMS'))\n",
    "# 将一个对象插入列表指定位置\n",
    "print(HMS.insert(1, 'This is HMS'), HMS)\n",
    "# 从列表中删除一个元素，并返回这一元素\n",
    "print(HMS.pop(), HMS)\n",
    "# 删除第一个为指定值的元素\n",
    "print(HMS.remove('This is HMS'), HMS)"
   ]
  },
  {
   "cell_type": "code",
   "execution_count": 15,
   "id": "3640d463",
   "metadata": {},
   "outputs": [
    {
     "name": "stdout",
     "output_type": "stream",
     "text": [
      "[0, 1, 2, 3, 4, 5, 6, 7, 8, 9] ['0', '1', '2', '3', '4', '5', '6', '7', '8', '9']\n"
     ]
    }
   ],
   "source": [
    "# map()函数，接受函数和输入作为输入\n",
    "# 比如将list中所有int元素变为str元素\n",
    "list1 = list(range(10))\n",
    "list2 = list(map(str, range(10)))\n",
    "print(list1, list2)"
   ]
  },
  {
   "cell_type": "code",
   "execution_count": 16,
   "id": "21875239",
   "metadata": {},
   "outputs": [
    {
     "name": "stdout",
     "output_type": "stream",
     "text": [
      "0+1+2+3+4+5+6+7+8+9 -45\n"
     ]
    }
   ],
   "source": [
    "# join()函数主要用来将字符串、元组、列表中的str元素以指定的字符(分隔符)连接生成一个新的字符串\n",
    "print('+'.join(list2), eval('-'.join(list2)))"
   ]
  },
  {
   "cell_type": "code",
   "execution_count": 17,
   "id": "4acb9de3",
   "metadata": {},
   "outputs": [
    {
     "name": "stdout",
     "output_type": "stream",
     "text": [
      "None ['5', '6', '7', '8', '9', '10', '11', '12', '13', '14']\n",
      "None ['10', '11', '12', '13', '14', '5', '6', '7', '8', '9']\n",
      "['10', '11', '12', '13', '14', '5', '6', '7', '8', '9']\n"
     ]
    }
   ],
   "source": [
    "list1 = list(map(str, range(5, 15)))\n",
    "# 按相反的顺序排列列表中的元素\n",
    "list1.reverse()\n",
    "print(list1.reverse(), list1)\n",
    "# 排序\n",
    "list1.sort()\n",
    "print(list1.sort(), list1)\n",
    "# reverse、remove、sort不返回任何值\n",
    "# 高级排序\n",
    "list1.sort(key=len, reverse=True)\n",
    "print(list1)"
   ]
  },
  {
   "cell_type": "code",
   "execution_count": 18,
   "id": "5293153f",
   "metadata": {},
   "outputs": [
    {
     "name": "stdout",
     "output_type": "stream",
     "text": [
      "range(1, 10, 2) 9 1 5\n"
     ]
    }
   ],
   "source": [
    "# 特殊的列表：range() 函数，用来创建一个整数列表，比如：\n",
    "list1=range(1, 10, 2)\n",
    "print(list1, max(list1), min(list1), len(list1))    # list1，最大值，最小值，长度（元素数量）"
   ]
  },
  {
   "cell_type": "markdown",
   "id": "47a6b544",
   "metadata": {},
   "source": [
    "练习题：对于输入的n个整数，升序输出其中最小的k个。"
   ]
  },
  {
   "cell_type": "markdown",
   "id": "96eeaa48",
   "metadata": {},
   "source": [
    "<p align=\"center\">Tuple</p>\n",
    "<p align=\"center\">元组 tuple()</p>"
   ]
  },
  {
   "cell_type": "code",
   "execution_count": 19,
   "id": "dfad80f3",
   "metadata": {},
   "outputs": [
    {
     "name": "stdout",
     "output_type": "stream",
     "text": [
      "(1, 2, 3)\n"
     ]
    }
   ],
   "source": [
    "# 元组与列表唯一的差别在于元组不能对元素赋值修改\n",
    "# 形如用圆括号括起来的是元组，比如：\n",
    "tuple1 = (1, 2, 3)\n",
    "print(tuple1)"
   ]
  },
  {
   "cell_type": "markdown",
   "id": "2672171f",
   "metadata": {},
   "source": [
    "**<p align=\"center\">Repeating</p>**\n",
    "**<p align=\"center\">循环</p>**\n",
    "<p align=\"center\">程序在一般情况下是按顺序执行的。编程语言提供了各种控制结构，允许更复杂的执行路径。循环语句允许我们执行一个语句或语句组多次。</p>"
   ]
  },
  {
   "cell_type": "markdown",
   "id": "d4966374",
   "metadata": {},
   "source": [
    "<p align=\"center\">while 循环语句</p>"
   ]
  },
  {
   "cell_type": "code",
   "execution_count": 20,
   "id": "9095f052",
   "metadata": {},
   "outputs": [
    {
     "name": "stdout",
     "output_type": "stream",
     "text": [
      "1 2 4 8 16 32\n"
     ]
    }
   ],
   "source": [
    "# 以计算2的5次方为例演示如何写一个while循环\n",
    "i,res = 0,1\n",
    "while i<5:\n",
    "    print(res, end=' ')\n",
    "    res*=2\n",
    "    i+=1\n",
    "print(res)"
   ]
  },
  {
   "cell_type": "markdown",
   "id": "96402c26",
   "metadata": {},
   "source": [
    "<p align=\"center\">for 循环语句</p>"
   ]
  },
  {
   "cell_type": "code",
   "execution_count": 21,
   "id": "349d5971",
   "metadata": {},
   "outputs": [
    {
     "name": "stdout",
     "output_type": "stream",
     "text": [
      "1 1 2 6 24 120\n"
     ]
    }
   ],
   "source": [
    "# 以计算5的阶乘为例演示如何写一个for循环\n",
    "res = 1\n",
    "for i in range(1, 6):\n",
    "    print(res, end=' ')\n",
    "    res*=i\n",
    "print(res)"
   ]
  },
  {
   "cell_type": "code",
   "execution_count": 22,
   "id": "885095b2",
   "metadata": {},
   "outputs": [
    {
     "name": "stdout",
     "output_type": "stream",
     "text": [
      "1 1 1 2 6 24 120\n"
     ]
    }
   ],
   "source": [
    "# 有的时候循环里的一些条件是我们不想要的，这时候就需要跳出循环，有两种方法：continue和break\n",
    "# continue语句跳出本次循环，而break跳出整个循环\n",
    "# 以计算5的阶乘为例\n",
    "i,res = 0,1\n",
    "while True:\n",
    "    print(res, end=' ')\n",
    "    if i<1: \n",
    "        i+=1\n",
    "        continue\n",
    "    res*=i\n",
    "    i+=1\n",
    "    if i>5: \n",
    "        break\n",
    "print(res)"
   ]
  },
  {
   "cell_type": "code",
   "execution_count": 23,
   "id": "ebea868e",
   "metadata": {},
   "outputs": [
    {
     "name": "stdout",
     "output_type": "stream",
     "text": [
      "1 3 5 "
     ]
    }
   ],
   "source": [
    "# 空语句pass不做任何事情，一般用做占位语句\n",
    "for i in range(1, 6):\n",
    "    if i%2==0: \n",
    "        pass\n",
    "    else:\n",
    "        print(i, end=' ')"
   ]
  },
  {
   "cell_type": "markdown",
   "id": "6b33e6e0",
   "metadata": {},
   "source": [
    "练习题：给一个整数n，求1到n之间包含7（比如17）或是7的倍数（比如14）的数字的个数"
   ]
  },
  {
   "cell_type": "markdown",
   "id": "b6100ecf",
   "metadata": {},
   "source": [
    "**<p align=\"center\">Container (sequence & mapping & set)</p>**\n",
    "**<p align=\"center\">容器（序列与映射与集合）</p>**"
   ]
  },
  {
   "cell_type": "markdown",
   "id": "85466271",
   "metadata": {},
   "source": [
    "<p align=\"center\">Dictionary</p>\n",
    "<p align=\"center\">字典 dict()</p>"
   ]
  },
  {
   "cell_type": "code",
   "execution_count": 24,
   "id": "7434f05f",
   "metadata": {},
   "outputs": [
    {
     "name": "stdout",
     "output_type": "stream",
     "text": [
      "{'I': 0, ' ': 0, 'h': 0, 'a': 0, 'v': 0, 'e': 0, 'd': 0, 'r': 0, 'm': 0, ',': 0, 'b': 0, 'u': 0, 't': 0, 'i': 0, 'f': 0, 'l': 0, '.': 0}\n",
      "{'I': 1, ' ': 7, 'h': 1, 'a': 6, 'v': 1, 'e': 4, 'd': 2, 'r': 2, 'm': 2, ',': 1, 'b': 1, 'u': 2, 't': 1, 'i': 1, 'f': 1, 'l': 1, '.': 1}\n",
      "['I', ' ', 'h', 'a', 'v', 'e', 'd', 'r', 'm', ',', 'b', 'u', 't', 'i', 'f', 'l', '.'] [1, 7, 1, 6, 1, 4, 2, 2, 2, 1, 1, 2, 1, 1, 1, 1, 1]\n",
      "['I', ' ', 'h', 'a', 'v', 'e', 'd', 'r', 'm', ',', 'b', 'u', 't', 'i', 'f', 'l', '.']\n"
     ]
    }
   ],
   "source": [
    "# 形如{key1: value1, key2: value2, ..., keyn: valuen}的就是一个字典\n",
    "str1 = 'I have a dream, a beautiful dream. '\n",
    "dict1 = dict.fromkeys(list(str1), 0)    # 将str1中出现过的字符作为key，值统一为0\n",
    "print(dict1)\n",
    "for s in str1:\n",
    "    dict1[s] += 1   # 统计各个字符出现的次数\n",
    "list1 = list(dict1.keys())  # 将key组成的列表赋值给list1\n",
    "list2 = list(dict1.values())    # 将value组成的列表赋值给list2\n",
    "print(dict1) \n",
    "print(list1, list2)\n",
    "print(list(dict1))"
   ]
  },
  {
   "cell_type": "markdown",
   "id": "90d713ab",
   "metadata": {},
   "source": [
    "<p align=\"center\">Set</p>\n",
    "<p align=\"center\">集合 set()</p>"
   ]
  },
  {
   "cell_type": "code",
   "execution_count": 25,
   "id": "7f8641d4",
   "metadata": {},
   "outputs": [
    {
     "name": "stdout",
     "output_type": "stream",
     "text": [
      "[0, 1, 2, 3, 4, 5, 6, 7, 8, 9, 0, 2, 4, 6, 8, 10, 12, 14, 16, 18]\n",
      "{0, 1, 2, 3, 4, 5, 6, 7, 8, 9, 10, 12, 14, 16, 18}\n",
      "[0, 1, 2, 3, 4, 5, 6, 7, 8, 9, 10, 12, 14, 16, 18]\n",
      "{5, 6, 7, 8, 9, 10, 12, 14}\n",
      "{0, 1, 2, 3, 4, 5, 6, 7, 8, 9, 10, 11, 12, 13, 14, 16, 18}\n"
     ]
    }
   ],
   "source": [
    "# 集合不能包含重复的元素，使用add()往集合中添加元素，重复的元素自动过滤，还可以求交集和并集\n",
    "list1 = list(range(10))\n",
    "for i in range(10):\n",
    "    list1.append(i*2)\n",
    "print(list1)\n",
    "set1 = set(list1)\n",
    "print(set1)\n",
    "list1 = list(set1)\n",
    "print(list1)\n",
    "set2 = set1 & set(range(5, 15))    #交集\n",
    "print(set2)\n",
    "set2 = set1 | set(range(5, 15))    #并集\n",
    "print(set2)"
   ]
  },
  {
   "cell_type": "markdown",
   "id": "549fe1d8",
   "metadata": {},
   "source": [
    "**<p align=\"center\">基础语法篇结课测试题</p>**\n",
    "给你非空字符串s和t。返回s中涵盖t所有字符的最小子串。如果s中不存在涵盖t所有字符的子串，则返回空字符串\"\"</br>\n",
    "输入：s = \"ADOBECODEBANC\", t = \"ABC\"</br>\n",
    "输出：\"BANC\"</br>\n",
    "输入: s = \"a\", t = \"aa\"</br>\n",
    "输出: \"\"</br>"
   ]
  }
 ],
 "metadata": {
  "kernelspec": {
   "display_name": "Python 3",
   "language": "python",
   "name": "python3"
  },
  "language_info": {
   "codemirror_mode": {
    "name": "ipython",
    "version": 3
   },
   "file_extension": ".py",
   "mimetype": "text/x-python",
   "name": "python",
   "nbconvert_exporter": "python",
   "pygments_lexer": "ipython3",
   "version": "3.7.6"
  }
 },
 "nbformat": 4,
 "nbformat_minor": 5
}
