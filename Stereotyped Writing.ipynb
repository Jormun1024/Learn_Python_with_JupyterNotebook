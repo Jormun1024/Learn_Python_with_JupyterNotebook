{
 "cells": [
  {
   "cell_type": "markdown",
   "metadata": {},
   "source": [
    "解释型和编译型语言的区别：</br>\n",
    "编译型语言：把做好的源程序全部编译成<strong>二进制</strong>的可运行程序。然后，可直接运行这个程序。如：C，C++ ；</br>\n",
    "解释型语言：把做好的源程序翻译一句，然后执行一句，直至结束。如：Python。</br>\n",
    "注意：Java 有些特殊，java程序也需要编译，但是没有直接编译成为机器语言，而是编译称为<strong>字节码</strong>，然后用<strong>解释方式</strong>执行字节码。</br>"
   ]
  },
  {
   "cell_type": "markdown",
   "metadata": {},
   "source": [
    "简述下 Python 中的字符串、列表、元组和字典</br>\n",
    "字符串（str）：字符串是用引号括起来的任意文本，是编程语言中最常用的数据类型。</br>\n",
    "列表（list）：列表是<strong>有序</strong>的集合，可以向其中添加或删除元素。</br>\n",
    "元组（tuple）：元组也是<strong>有序</strong>集合，元组中的数无法修改。即<strong>元组是不可变</strong>的。</br>\n",
    "字典（dict）：字典是<strong>无序</strong>的集合，是由<strong>键值对</strong>（key-value）组成的。</br>\n",
    "集合（set）：是一组 key 的集合，每个元素都是<strong>唯一</strong>，<strong>不重复</strong>且<strong>无序</strong>的。</br>"
   ]
  },
  {
   "cell_type": "code",
   "execution_count": 1,
   "metadata": {},
   "outputs": [
    {
     "name": "stdout",
     "output_type": "stream",
     "text": [
      "['luobo,dazahui', 'good'] ['luobo', 'dazahui good']\n"
     ]
    }
   ],
   "source": [
    "str2_1='luobo,dazahui good'\n",
    "print(str2_1.split(),str2_1.split(','))"
   ]
  },
  {
   "cell_type": "code",
   "execution_count": 2,
   "metadata": {},
   "outputs": [
    {
     "name": "stdout",
     "output_type": "stream",
     "text": [
      "None None [1, 2, [3, 4]] [1, 2, 3, 4]\n"
     ]
    }
   ],
   "source": [
    "list2_1, list2_2, = [1, 2], [3, 4]\n",
    "list2_3, list2_4 = list2_1.copy(), list2_1.copy()\n",
    "list2_3.append(list2_2)\n",
    "list2_4.extend(list2_2)\n",
    "print(list2_1.append(list2_2), list2_1.extend(list2_2), list2_3, list2_4)"
   ]
  },
  {
   "cell_type": "code",
   "execution_count": 3,
   "metadata": {},
   "outputs": [
    {
     "name": "stdout",
     "output_type": "stream",
     "text": [
      "{'a': 3, 'b': 2, 'c': 2, 'd': 3, 'e': 4, 'f': 3, 'g': 2, 'h': 2, 'i': 4, 'j': 2, 'k': 3, 'l': 2, 'm': 2, 'n': 2, 'o': 4, 'p': 4, 'q': 4, 'r': 4, 's': 3, 't': 4, 'u': 4, 'v': 2, 'w': 4, 'x': 2, 'y': 4, 'z': 2}\n"
     ]
    }
   ],
   "source": [
    "str2_1 = 'qwertyuiopqwertyuiopqwertyuiopqwertyuiopasdfghjklzxcvbnmasdfghjklzxcvbnmasdfk'\n",
    "list2_5 = sorted(str2_1)\n",
    "dir2_1=dict.fromkeys(list2_5,0)\n",
    "for d2_1ki in dir2_1:\n",
    "    dir2_1[d2_1ki]=list2_5.count(d2_1ki)\n",
    "print(dir2_1)"
   ]
  },
  {
   "cell_type": "markdown",
   "metadata": {},
   "source": [
    "简述 Python 中的字符串编码</br>\n",
    "计算机在最初的设计中，采用了8个比特（bit）作为一个字节（byte）的方式。一个字节能表示的最大的整数就是255，如果要表示更大的整数，就必须用更多的字节。最早，计算机只有 ASCII 编码，即只包含大小写英文字母、数字和一些符号，这些对于其他语言，如中文，日文显然是不够用的。后来又发明了Unicode，Unicode把所有语言都统一到一套编码里，这样就不会再有乱码问题了。当需要保存到硬盘或者需要传输的时候，就转换为UTF-8编码。UTF-8 是隶属于 Unicode 的可变长的编码方式。</br>\n",
    "在 Python 中，以 Unicode 方式编码的字符串，可以使用 encode() 方法来编码成指定的 bytes，也可以通过 decode()方法来把 bytes编码成字符串。</br>"
   ]
  },
  {
   "cell_type": "code",
   "execution_count": 4,
   "metadata": {},
   "outputs": [
    {
     "name": "stdout",
     "output_type": "stream",
     "text": [
      "b'\\xe4\\xbd\\xa0\\xe5\\xa5\\xbd' 中文\n"
     ]
    }
   ],
   "source": [
    "str31=\"你好\".encode('utf-8')\n",
    "str32=b'\\xe4\\xb8\\xad\\xe6\\x96\\x87'.decode('utf-8')\n",
    "print(str31,str32)"
   ]
  },
  {
   "cell_type": "markdown",
   "metadata": {},
   "source": [
    "Python 函数中的参数类型：位置参数、默认参数、可变参数、关键字参数。"
   ]
  },
  {
   "cell_type": "markdown",
   "metadata": {},
   "source": [
    "*arg 和 **kwarg 允许在调用函数的时候传入多个实参</br>\n",
    "*arg 会把位置参数转化为 tuple，**kwarg 会把关键字参数转化为 dict。</br>"
   ]
  },
  {
   "cell_type": "code",
   "execution_count": 5,
   "metadata": {},
   "outputs": [
    {
     "name": "stdout",
     "output_type": "stream",
     "text": [
      "arg: ('ni', 'hao')\n",
      "kearg: {'key': 'world'}\n"
     ]
    }
   ],
   "source": [
    "def fun4_1(*arg, **kwarg):\n",
    "    if arg:\n",
    "        print(\"arg:\", arg)\n",
    "    if kwarg:\n",
    "        print(\"kearg:\", kwarg)\n",
    "fun4_1('ni', 'hao', key='world')"
   ]
  },
  {
   "cell_type": "markdown",
   "metadata": {},
   "source": [
    "Python 的深浅拷贝</br>\n",
    "浅拷贝只拷贝了列表的外层，而列表的内层列表，还是共享的。</br>\n",
    "深拷贝使得两个列表完全独立开来，每一个列表的操作，都不会影响到另一个。</br>"
   ]
  },
  {
   "cell_type": "code",
   "execution_count": 6,
   "metadata": {},
   "outputs": [
    {
     "name": "stdout",
     "output_type": "stream",
     "text": [
      "[1, 2, 3, 4, 5, 6, 7, 8, 9, 0, 1, 2]\n",
      "[[1, 10, 3], [4, 10, 6], [7, 10, 9], [0, 10, 2]]\n",
      "[[1, 10, 3], [4, 10, 6], [7, 10, 9], [0, 10, 2]]\n",
      "[[0, 10, 2], [1, 10, 3], [4, 10, 6], [7, 10, 9]]\n",
      "[[1, 2, 3], [4, 5, 6], [7, 8, 9], [0, 1, 2]]\n"
     ]
    }
   ],
   "source": [
    "import copy\n",
    "list5_1 = list(map(int, list('123456789012')))\n",
    "list5_2=[]\n",
    "for i in range(len(list5_1)//3):\n",
    "    list5_2.append(list5_1[3*i:3*(i+1)])\n",
    "list5_3=list5_2.copy()\n",
    "# list5_4=sorted(list5_2, key=list5_2.index)\n",
    "list5_4=sorted(list5_2)\n",
    "list5_5=copy.deepcopy(list5_2)\n",
    "for i in range(len(list5_2)):\n",
    "    list5_2[i][1]=10\n",
    "print(list5_1)\n",
    "print(list5_2)\n",
    "print(list5_3)\n",
    "print(list5_4)\n",
    "print(list5_5)"
   ]
  },
  {
   "cell_type": "code",
   "execution_count": 7,
   "metadata": {},
   "outputs": [
    {
     "name": "stdout",
     "output_type": "stream",
     "text": [
      "[6, 6, 6, 6] [0, 1, 2, 3] [0, 1, 2, 3, 0, 1, 2, 3] [0, 2, 4, 6]\n"
     ]
    }
   ],
   "source": [
    "list5_6 = [lambda x: x*i for i in range(4)]\n",
    "list5_7 = [m(2) for m in list5_6]\n",
    "list5_8 = list(range(4))\n",
    "list5_9 = [m*2 for m in list5_8]\n",
    "print(list5_7,list5_8,list5_8*2,list5_9)"
   ]
  },
  {
   "cell_type": "code",
   "execution_count": 8,
   "metadata": {},
   "outputs": [
    {
     "name": "stdout",
     "output_type": "stream",
     "text": [
      "1*1=1 \n",
      "\n",
      "2*1=2 2*2=4 \n",
      "\n",
      "3*1=3 3*2=6 3*3=9 \n",
      "\n",
      "4*1=4 4*2=8 4*3=12 4*4=16 \n",
      "\n",
      "5*1=5 5*2=10 5*3=15 5*4=20 5*5=25 \n",
      "\n",
      "6*1=6 6*2=12 6*3=18 6*4=24 6*5=30 6*6=36 \n",
      "\n",
      "7*1=7 7*2=14 7*3=21 7*4=28 7*5=35 7*6=42 7*7=49 \n",
      "\n",
      "8*1=8 8*2=16 8*3=24 8*4=32 8*5=40 8*6=48 8*7=56 8*8=64 \n",
      "\n",
      "9*1=9 9*2=18 9*3=27 9*4=36 9*5=45 9*6=54 9*7=63 9*8=72 9*9=81 \n",
      "\n"
     ]
    }
   ],
   "source": [
    "for i in range(1, 10):\n",
    "    for j in range(1, i + 1):\n",
    "        print(f\"{i}*{j}={i * j}\", end=\" \")\n",
    "    print(\"\\n\")"
   ]
  },
  {
   "cell_type": "markdown",
   "metadata": {},
   "source": [
    "filter 函数用于过滤序列，它接收一个函数和一个序列，把函数作用在序列的每个元素上，然后根据返回值是True还是False决定保留还是丢弃该元素。</br>\n",
    "map函数传入一个函数和一个序列，并把函数作用到序列的每个元素上，返回一个可迭代对象。</br>\n",
    "reduce函数用于递归计算，同样需要传入一个函数和一个序列，并把函数和序列元素的计算结果与下一个元素进行计算。</br>"
   ]
  },
  {
   "cell_type": "code",
   "execution_count": 9,
   "metadata": {},
   "outputs": [
    {
     "name": "stdout",
     "output_type": "stream",
     "text": [
      "[0, 1, 2, 3, 4, 5, 6, 7, 8, 9] [1, 3, 5, 7, 9] [0, 1, 0, 1, 0, 1, 0, 1, 0, 1] 24 3581\n"
     ]
    }
   ],
   "source": [
    "from functools import reduce\n",
    "list6_1 = list(range(10))\n",
    "list6_2 = list(filter(lambda x: x % 2 == 1, list6_1))\n",
    "list6_3 = list(map(lambda x: x % 2, list6_1))\n",
    "num6_1 = reduce(lambda x, y: x * y, [1, 2, 3, 4])\n",
    "num6_2 = reduce(lambda x, y: x * 10 + y, [3, 5, 8, 1])\n",
    "print(list6_1,list6_2,list6_3,num6_1,num6_2)"
   ]
  },
  {
   "cell_type": "markdown",
   "metadata": {},
   "source": [
    "面向对象中__new__ 和 __init__ 区别</br>\n",
    "__new__是在实例创建之前被调用的，因为它的任务就是创建实例然后返回该实例对象，是个静态方法。</br>\n",
    "__init__是当实例对象创建完成后被调用的，然后设置对象属性的一些初始值，通常用在初始化一个类实例的时候，是一个实例方法。</br>\n",
    "__new__至少要有一个参数cls，代表当前类，此参数在实例化时由 Python 解释器自动识别。</br>\n",
    "__new__必须要有返回值，返回实例化出来的实例，这点在自己实现__new__时要特别注意，可以 return 父类（通过 super(当前类名, cls)）__new__出来的实例，或者直接是 object的__new__出来的实例。</br>\n",
    "__init__有一个参数 self，就是这个__new__返回的实例，__init__在__new__的基础上可以完成一些其它初始化的动作，__init__不需要返回值。</br>\n",
    "如果__new__创建的是当前类的实例，会自动调用__init__函数，通过 return 语句里面调用的__new__函数的第一个参数是 **cls**** 来保证是当前类实例**，如果是其他类的类名，那么实际创建返回的就是其他类的实例，其实就不会调用当前类的__init__函数，也不会调用其他类的__init__函数。</br>"
   ]
  },
  {
   "cell_type": "code",
   "execution_count": 10,
   "metadata": {},
   "outputs": [
    {
     "name": "stdout",
     "output_type": "stream",
     "text": [
      "5\n"
     ]
    }
   ],
   "source": [
    "num7_1, num7_2 = 1, 2\n",
    "num7_3 = num7_1+num7_2 if num7_1>num7_2 else num7_1+2*num7_2\n",
    "print(num7_3)"
   ]
  },
  {
   "cell_type": "code",
   "execution_count": 11,
   "metadata": {},
   "outputs": [
    {
     "name": "stdout",
     "output_type": "stream",
     "text": [
      "[1, 3, 5, 7, 9, 11, 13, 15, 17, 19]\n"
     ]
    }
   ],
   "source": [
    "print([x for x in range(20) if x % 2 == 1])"
   ]
  },
  {
   "cell_type": "code",
   "execution_count": 12,
   "metadata": {},
   "outputs": [
    {
     "name": "stdout",
     "output_type": "stream",
     "text": [
      "[1, 2, 3, 4, 5, 6] [[5, 6], [3, 4], [1, 2]]\n"
     ]
    }
   ],
   "source": [
    "list7_1 = [[1, 2], [3, 4], [5, 6]]\n",
    "print([j for i in list7_1 for j in i], list7_1[::-1])"
   ]
  },
  {
   "cell_type": "code",
   "execution_count": 13,
   "metadata": {},
   "outputs": [
    {
     "name": "stdout",
     "output_type": "stream",
     "text": [
      "{'e': 0, 'q': 0, 'r': 0, 'w': 0} {'a': 0, 'd': 0, 'f': 0, 's': 0} {'e': 0, 'q': 0, 'r': 0, 'w': 0, 'a': 0, 'd': 0, 'f': 0, 's': 0}\n"
     ]
    }
   ],
   "source": [
    "str7_1='qweqweqweqweqwer'\n",
    "str7_2='asdfasdasdasdf'\n",
    "dir7_1=dict.fromkeys(sorted(str7_1), 0)\n",
    "dir7_2=dict.fromkeys(sorted(str7_2), 0)\n",
    "dir7_3 = {**dir7_1, **dir7_2}\n",
    "print(dir7_1,dir7_2,dir7_3)"
   ]
  },
  {
   "cell_type": "code",
   "execution_count": 14,
   "metadata": {},
   "outputs": [
    {
     "name": "stdout",
     "output_type": "stream",
     "text": [
      "{'a': 2, 'b': 2, 'c': 2, 'd': 2}\n"
     ]
    }
   ],
   "source": [
    "dir7_4 = {k: 2 for k in [\"a\", \"b\", \"c\", \"d\"]}\n",
    "print(dir7_4)"
   ]
  },
  {
   "cell_type": "markdown",
   "metadata": {},
   "source": [
    "单下划线和双下划线的作用</br>\n",
    "__foo__：一种约定，Python内部的名字，用来区别其他用户自定义的命名，以防冲突，就是例如__init__()，__del__()，__call__()些特殊方法。</br>\n",
    "_foo：一种约定，用来指定变量私有。不能用from module import * 导入，其他方面和公有变量一样访问。</br>\n",
    "__foo：解析器用_classname__foo来代替这个名字，以区别和其他类相同的命名，它无法直接像公有成员一样随便访问，通过对象名._类名__xxx这样的方式可以访问。</br>"
   ]
  },
  {
   "cell_type": "markdown",
   "metadata": {},
   "source": [
    "新式类和旧式类</br>\n",
    "在 python 里凡是继承了 object的类，都是新式类</br>\n",
    "Python3 里只有新式类；Python2 里面继承 object的是新式类，没有写父类的是经典类</br>\n",
    "经典类目前在 Python 里基本没有应用</br>"
   ]
  },
  {
   "cell_type": "markdown",
   "metadata": {},
   "source": [
    "Python 面向对象中的继承有什么特点？</br>\n",
    "同时支持单继承与多继承，当只有一个父类时为单继承，当存在多个父类时为多继承；</br>\n",
    "子类会继承父类所有的属性和方法，子类也可以覆盖父类同名的变量和方法；</br>\n",
    "在继承中基类的构造（__init__()）方法不会被自动调用，它需要在其派生类的构造中专门调用；</br>\n",
    "在调用基类的方法时，需要加上基类的类名前缀，且需要带上 self 参数变量。区别于在类中调用普通函数时并不需要带上 self 参数。</br>"
   ]
  },
  {
   "cell_type": "code",
   "execution_count": 15,
   "metadata": {},
   "outputs": [
    {
     "name": "stdout",
     "output_type": "stream",
     "text": [
      "this is func A\n",
      "this is func C\n"
     ]
    }
   ],
   "source": [
    "class A():\n",
    "    def funcA(self):\n",
    "        print(\"this is func A\")\n",
    "class B(A):\n",
    "    def funcA_in_B(self):\n",
    "        super(B, self).funcA()\n",
    "    def funcC(self):\n",
    "        print(\"this is func C\")\n",
    "ins = B()\n",
    "ins.funcA_in_B()\n",
    "ins.funcC()"
   ]
  },
  {
   "cell_type": "markdown",
   "metadata": {},
   "source": [
    "实例方法</br>\n",
    "定义：第一个参数必须是实例对象，该参数名一般约定为“self”，通过它来传递实例的属性和方法（也可以传类的属性和方法）。</br>\n",
    "调用：只能由实例对象调用。</p>\n",
    "类方法</br>\n",
    "定义：使用装饰器@classmethod。第一个参数必须是当前类对象，该参数名一般约定为“cls”，通过它来传递类的属性和方法（不能传实例的属性和方法）。</br>\n",
    "调用：实例对象和类对象都可以调用。</p>\n",
    "静态方法</br>\n",
    "定义：使用装饰器@staticmethod。参数随意，没有“self”和“cls”参数，但是方法体中不能使用类或实例的任何属性和方法。</br>\n",
    "调用：实例对象和类对象都可以调用。</br>\n",
    "静态方法是类中的函数，不需要实例。静态方法主要是用来存放逻辑性的代码，主要是一些逻辑属于类，但是和类本身没有交互。即在静态方法中，不会涉及到类中的方法和属性的操作。可以理解为将静态方法存在此类的名称空间中。</br>\n",
    "类方法是将类本身作为对象进行操作的方法。他和静态方法的区别在于：不管这个方式是从实例调用还是从类调用，它都用第一个参数把类传递过来。</p>"
   ]
  },
  {
   "cell_type": "markdown",
   "metadata": {},
   "source": [
    "isinstance() 的作用以及与type()的区别</br>\n",
    "isinstance()函数来判断一个对象是否是一个已知的类型，类似type()</br>\n",
    "type()不会认为子类是一种父类类型，不考虑继承关系；isinstance()会认为子类是一种父类类型，考虑继承关系。</br>"
   ]
  },
  {
   "cell_type": "markdown",
   "metadata": {},
   "source": [
    "单例模式：主要目的是确保某一个类只有一个实例存在；</br>\n",
    "工厂模式：包涵一个超类，这个超类提供一个抽象化的接口来创建一个特定类型的对象，而不是决定哪个对象可以被创建。"
   ]
  },
  {
   "cell_type": "markdown",
   "metadata": {},
   "source": [
    "单例模式：这种模式涉及到一个单一的类，该类负责创建自己的对象，同时确保只有单个对象被创建。这个类提供了一种访问其唯一的对象的方式，可以直接访问，不需要实例化该类的对象。</br>\n",
    "意图：保证一个类仅有一个实例，并提供一个访问它的全局访问点。</br>\n",
    "主要解决：一个全局使用的类频繁地创建与销毁。</br>\n",
    "举例：操作一个文件，应该用一个唯一的实例去操作。</br>"
   ]
  },
  {
   "cell_type": "markdown",
   "metadata": {},
   "source": [
    "工厂模式：</br>\n",
    "工厂类模式设计的核心是：让“生产”和“产品”解耦。</br>\n",
    "工厂模式的主要解决的问题：将原来分布在各个地方的对象创建过程单独抽离出来，交给工厂类负责创建。其他地方想要使用对象直接找工厂（即调用工厂的方法）获取对象。优点：</br>\n",
    "一个调用者想创建一个对象，只要知道其名称就可以了。</br>\n",
    "扩展性高，如果想增加一个产品，只要扩展一个工厂类就可以。</br>\n",
    "屏蔽产品的具体实现，调用者只关心产品的接口。</br>"
   ]
  },
  {
   "cell_type": "code",
   "execution_count": 16,
   "metadata": {},
   "outputs": [
    {
     "name": "stdout",
     "output_type": "stream",
     "text": [
      "hello world\n",
      "helloworld\n",
      "helloworld\n"
     ]
    }
   ],
   "source": [
    "print(\"   hello world    \".strip())\n",
    "print(\"hello world\".replace(\" \", \"\"))\n",
    "print(\"\".join(\"hello world\".split(\" \")))"
   ]
  }
 ],
 "metadata": {
  "kernelspec": {
   "display_name": "Python 3",
   "language": "python",
   "name": "python3"
  },
  "language_info": {
   "codemirror_mode": {
    "name": "ipython",
    "version": 3
   },
   "file_extension": ".py",
   "mimetype": "text/x-python",
   "name": "python",
   "nbconvert_exporter": "python",
   "pygments_lexer": "ipython3",
   "version": "3.7.6"
  }
 },
 "nbformat": 4,
 "nbformat_minor": 2
}
